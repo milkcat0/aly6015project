{
 "cells": [
  {
   "cell_type": "code",
   "execution_count": 93,
   "metadata": {},
   "outputs": [],
   "source": [
    "import numpy as np\n",
    "import pandas as pd\n",
    "from numpy import *\n",
    "import warnings\n",
    "import matplotlib.pyplot as plt\n",
    "from sklearn.model_selection import cross_val_score\n",
    "from sklearn.model_selection import train_test_split\n",
    "from sklearn.ensemble import RandomForestClassifier\n",
    "from sklearn.linear_model import LogisticRegression\n"
   ]
  },
  {
   "cell_type": "code",
   "execution_count": 94,
   "metadata": {},
   "outputs": [],
   "source": [
    "warnings.filterwarnings(\"ignore\")"
   ]
  },
  {
   "cell_type": "code",
   "execution_count": 95,
   "metadata": {},
   "outputs": [],
   "source": [
    "Data=np.array(pd.read_csv(r'H:\\WA_Fn-UseC_-Telco-Customer-Churn.csv'))"
   ]
  },
  {
   "cell_type": "code",
   "execution_count": 96,
   "metadata": {},
   "outputs": [],
   "source": [
    "X=np.delete(Data,26,axis=1)\n",
    "Y=Data[:,26]"
   ]
  },
  {
   "cell_type": "code",
   "execution_count": null,
   "metadata": {},
   "outputs": [],
   "source": []
  },
  {
   "cell_type": "code",
   "execution_count": 97,
   "metadata": {},
   "outputs": [
    {
     "data": {
      "image/png": "[encoded data removed]",
      "text/plain": [
       "<Figure size 432x288 with 1 Axes>"
      ]
     },
     "metadata": {
      "needs_background": "light"
     },
     "output_type": "display_data"
    }
   ],
   "source": [
    "x_list = ['No','Yes']\n",
    "y_list = [list(Y).count(0),list(Y).count(1)]\n",
    "\n",
    "def bar_with_percentage_plot(x_list, y_list):\n",
    "    plt.bar(range(len(x_list)), y_list, color='blue', alpha=0.8)\n",
    "\n",
    "plt.ylabel('Number')\n",
    "plt.xlabel('Churn')\n",
    "plt.title('Churn percent')\n",
    "\n",
    "plt.xticks(range(len(x_list)), x_list)\n",
    "\n",
    "y_max = max(y_list) + max(y_list) / 6\n",
    "plt.ylim([0, y_max])\n",
    "\n",
    "y_sum = sum(y_list)\n",
    "percentage = [x/y_sum for x in y_list]\n",
    "\n",
    "for x, y in enumerate(y_list):\n",
    "    plt.text(x,y + y_max / 20,str(round(percentage[x],2)), ha='center')\n",
    "\n",
    "if __name__ == '__main__':\n",
    "    bar_with_percentage_plot(x_list, y_list)"
   ]
  },
  {
   "cell_type": "code",
   "execution_count": null,
   "metadata": {},
   "outputs": [],
   "source": []
  },
  {
   "cell_type": "code",
   "execution_count": 98,
   "metadata": {},
   "outputs": [
    {
     "data": {
      "image/png": "[encoded data removed]",
      "text/plain": [
       "<Figure size 432x288 with 6 Axes>"
      ]
     },
     "metadata": {
      "needs_background": "light"
     },
     "output_type": "display_data"
    }
   ],
   "source": [
    "N=3\n",
    "ind = np.arange(N) \n",
    "plt.figure(1)\n",
    "ax1 = plt.subplot(2,3,1)\n",
    "ax2 = plt.subplot(2,3,2)\n",
    "ax3 = plt.subplot(2,3,3)\n",
    "ax4 = plt.subplot(2,3,4)\n",
    "ax5 = plt.subplot(2,3,5)\n",
    "ax6 = plt.subplot(2,3,6)\n",
    "\n",
    "plt.sca(ax1)\n",
    "S=(23,43,11)\n",
    "C=(77,57,89)\n",
    "d=[]\n",
    "for i in range(0,len(S)):\n",
    "    sum = S[i] + C[i]\n",
    "    d.append(sum)\n",
    "p1 = plt.bar(ind, S, color='pink')\n",
    "p2 = plt.bar(ind, C, bottom=S)\n",
    "plt.ylabel('Percent')\n",
    "plt.title('InternetService')\n",
    "plt.xticks(ind, ('DSL', 'FiberOptic', 'No'))\n",
    "#plt.legend((p1[0], p2[0]), ('Churn', 'Not churn'))\n",
    "\n",
    "plt.sca(ax2)\n",
    "S=(41,12,21)\n",
    "C=(59,88,79)\n",
    "d=[]\n",
    "for i in range(0,len(S)):\n",
    "    sum = S[i] + C[i]\n",
    "    d.append(sum)\n",
    "p1 = plt.bar(ind, S, color='pink')\n",
    "p2 = plt.bar(ind, C, bottom=S)\n",
    "plt.title('OnlineSecurity')\n",
    "plt.xticks(ind, ('No','NoService', 'Yes'))\n",
    "#plt.legend((p1[0], p2[0]), ('Churn', 'Not churn'))\n",
    "\n",
    "plt.sca(ax3)\n",
    "S=(40,13,23)\n",
    "C=(60,87,77)\n",
    "d=[]\n",
    "for i in range(0,len(S)):\n",
    "    sum = S[i] + C[i]\n",
    "    d.append(sum)\n",
    "p1 = plt.bar(ind, S, color='pink')\n",
    "p2 = plt.bar(ind, C, bottom=S)\n",
    "plt.title('OnlineBackup')\n",
    "plt.xticks(ind, ('No','NoService', 'Yes'))\n",
    "#plt.legend((p1[0], p2[0]), ('Churn', 'Not churn'))\n",
    "\n",
    "plt.sca(ax4)\n",
    "S=(39,11,24)\n",
    "C=(61,89,76)\n",
    "d=[]\n",
    "for i in range(0,len(S)):\n",
    "    sum = S[i] + C[i]\n",
    "    d.append(sum)\n",
    "p1 = plt.bar(ind, S, color='pink')\n",
    "p2 = plt.bar(ind, C, bottom=S)\n",
    "plt.ylabel('Percent')\n",
    "plt.title('DeviceProtection')\n",
    "plt.xticks(ind, ('No','NoService', 'Yes'))\n",
    "#plt.legend((p1[0], p2[0]), ('Churn', 'Not churn'))\n",
    "\n",
    "plt.sca(ax5)\n",
    "S=(41,12,21)\n",
    "C=(59,88,79)\n",
    "d=[]\n",
    "for i in range(0,len(S)):\n",
    "    sum = S[i] + C[i]\n",
    "    d.append(sum)\n",
    "p1 = plt.bar(ind, S, color='pink')\n",
    "p2 = plt.bar(ind, C, bottom=S)\n",
    "plt.title('TechSupport')\n",
    "plt.xticks(ind, ('No','NoService','Yes'))\n",
    "#plt.legend((p1[0], p2[0]), ('Churn', 'Not churn'))\n",
    "\n",
    "plt.sca(ax6)\n",
    "S=(30,10,29)\n",
    "C=(70,90,71)\n",
    "d=[]\n",
    "for i in range(0,len(S)):\n",
    "    sum = S[i] + C[i]\n",
    "    d.append(sum)\n",
    "p1 = plt.bar(ind, S, color='pink')\n",
    "p2 = plt.bar(ind, C, bottom=S)\n",
    "plt.title('StreamingTV')\n",
    "plt.xticks(ind, ('No','NoService','Yes'))\n",
    "plt.legend((p1[0], p2[0]), ('Churn', 'Not churn'))\n",
    "\n",
    "plt.show()"
   ]
  },
  {
   "cell_type": "code",
   "execution_count": 99,
   "metadata": {},
   "outputs": [
    {
     "data": {
      "image/png": "[encoded data removed]",
      "text/plain": [
       "<Figure size 432x288 with 6 Axes>"
      ]
     },
     "metadata": {
      "needs_background": "light"
     },
     "output_type": "display_data"
    }
   ],
   "source": [
    "plt.figure(1)\n",
    "ax1 = plt.subplot(2,3,1)\n",
    "ax2 = plt.subplot(2,3,2)\n",
    "ax3 = plt.subplot(2,3,3)\n",
    "ax4 = plt.subplot(2,3,4)\n",
    "ax5 = plt.subplot(2,3,5)\n",
    "ax6 = plt.subplot(2,3,6)\n",
    "\n",
    "plt.sca(ax1)\n",
    "N=2\n",
    "ind = np.arange(N) \n",
    "S=(27,26)\n",
    "C=(73,74)\n",
    "d=[]\n",
    "for i in range(0,len(S)):\n",
    "    sum = S[i] + C[i]\n",
    "    d.append(sum)\n",
    "p1 = plt.bar(ind, S, color='pink')\n",
    "p2 = plt.bar(ind, C, bottom=S)\n",
    "plt.ylabel('Percent')\n",
    "plt.title('Gender')\n",
    "plt.xticks(ind, ('Female', 'Male'))\n",
    "#plt.legend((p1[0], p2[0]), ('Churn', 'Not churn'))\n",
    "\n",
    "plt.sca(ax2)\n",
    "N=2\n",
    "ind = np.arange(N) \n",
    "S=(24,31)\n",
    "C=(76,69)\n",
    "d=[]\n",
    "for i in range(0,len(S)):\n",
    "    sum = S[i] + C[i]\n",
    "    d.append(sum)\n",
    "p1 = plt.bar(ind, S, color='pink')\n",
    "p2 = plt.bar(ind, C, bottom=S)\n",
    "plt.title('SeniorCitizen')\n",
    "plt.xticks(ind, ('No', 'Yes'))\n",
    "#plt.legend((p1[0], p2[0]), ('Churn', 'Not churn'))\n",
    "\n",
    "plt.sca(ax3)\n",
    "N=2\n",
    "ind = np.arange(N) \n",
    "S=(27,23)\n",
    "C=(73,77)\n",
    "d=[]\n",
    "for i in range(0,len(S)):\n",
    "    sum = S[i] + C[i]\n",
    "    d.append(sum)\n",
    "p1 = plt.bar(ind, S, color='pink')\n",
    "p2 = plt.bar(ind, C, bottom=S)\n",
    "plt.title('Partner')\n",
    "plt.xticks(ind, ('No', 'Yes'))\n",
    "#plt.legend((p1[0], p2[0]), ('Churn', 'Not churn'))\n",
    "\n",
    "plt.sca(ax4)\n",
    "N=2\n",
    "ind = np.arange(N) \n",
    "S=(27,13)\n",
    "C=(73,87)\n",
    "d=[]\n",
    "for i in range(0,len(S)):\n",
    "    sum = S[i] + C[i]\n",
    "    d.append(sum)\n",
    "p1 = plt.bar(ind, S, color='pink')\n",
    "p2 = plt.bar(ind, C, bottom=S)\n",
    "plt.ylabel('Percent')\n",
    "plt.title('Dependents')\n",
    "plt.xticks(ind, ('No', 'Yes'))\n",
    "#plt.legend((p1[0], p2[0]), ('Churn', 'Not churn'))\n",
    "\n",
    "plt.sca(ax5)\n",
    "N=2\n",
    "ind = np.arange(N) \n",
    "S=(25,26)\n",
    "C=(75,74)\n",
    "d=[]\n",
    "for i in range(0,len(S)):\n",
    "    sum = S[i] + C[i]\n",
    "    d.append(sum)\n",
    "p1 = plt.bar(ind, S, color='pink')\n",
    "p2 = plt.bar(ind, C, bottom=S)\n",
    "plt.title('PhoneService')\n",
    "plt.xticks(ind, ('No', 'Yes'))\n",
    "#plt.legend((p1[0], p2[0]), ('Churn', 'Not churn'))\n",
    "\n",
    "plt.sca(ax6)\n",
    "N=3\n",
    "ind = np.arange(N) \n",
    "S=(25,25,27)\n",
    "C=(75,75,73)\n",
    "d=[]\n",
    "for i in range(0,len(S)):\n",
    "    sum = S[i] + C[i]\n",
    "    d.append(sum)\n",
    "p1 = plt.bar(ind, S, color='pink')\n",
    "p2 = plt.bar(ind, C, bottom=S)\n",
    "plt.title('MultipleLines')\n",
    "plt.xticks(ind, ('No','NoService','Yes'))\n",
    "plt.legend((p1[0], p2[0]), ('Churn', 'Not churn'))\n",
    "\n",
    "plt.show()"
   ]
  },
  {
   "cell_type": "code",
   "execution_count": null,
   "metadata": {},
   "outputs": [],
   "source": []
  },
  {
   "cell_type": "markdown",
   "metadata": {},
   "source": [
    "# RandomForestClassifier"
   ]
  },
  {
   "cell_type": "code",
   "execution_count": 100,
   "metadata": {},
   "outputs": [],
   "source": [
    "rfc=RandomForestClassifier(max_depth=None,random_state=0)\n",
    "scores_rfc = cross_val_score(rfc, X, Y,cv=5)"
   ]
  },
  {
   "cell_type": "code",
   "execution_count": 101,
   "metadata": {},
   "outputs": [
    {
     "data": {
      "text/plain": [
       "array([0.76759062, 0.79744136, 0.76190476, 0.77667141, 0.79074733])"
      ]
     },
     "execution_count": 101,
     "metadata": {},
     "output_type": "execute_result"
    }
   ],
   "source": [
    "scores_rfc"
   ]
  },
  {
   "cell_type": "code",
   "execution_count": 102,
   "metadata": {},
   "outputs": [
    {
     "data": {
      "text/plain": [
       "0.7788710968116804"
      ]
     },
     "execution_count": 102,
     "metadata": {},
     "output_type": "execute_result"
    }
   ],
   "source": [
    "scores_rfc.mean()"
   ]
  },
  {
   "cell_type": "markdown",
   "metadata": {},
   "source": [
    "# LogisticRegressionClassifier"
   ]
  },
  {
   "cell_type": "code",
   "execution_count": 103,
   "metadata": {},
   "outputs": [],
   "source": [
    "lgc=LogisticRegression()\n",
    "scores_lgc = cross_val_score(lgc, X, Y,cv=5)"
   ]
  },
  {
   "cell_type": "code",
   "execution_count": 104,
   "metadata": {},
   "outputs": [
    {
     "data": {
      "text/plain": [
       "array([0.80668088, 0.80881308, 0.78678038, 0.81223329, 0.80284698])"
      ]
     },
     "execution_count": 104,
     "metadata": {},
     "output_type": "execute_result"
    }
   ],
   "source": [
    "scores_lgc"
   ]
  },
  {
   "cell_type": "code",
   "execution_count": 105,
   "metadata": {},
   "outputs": [
    {
     "data": {
      "text/plain": [
       "0.8034709207158628"
      ]
     },
     "execution_count": 105,
     "metadata": {},
     "output_type": "execute_result"
    }
   ],
   "source": [
    "scores_lgc.mean()"
   ]
  },
  {
   "cell_type": "code",
   "execution_count": null,
   "metadata": {},
   "outputs": [],
   "source": []
  },
  {
   "cell_type": "code",
   "execution_count": null,
   "metadata": {},
   "outputs": [],
   "source": []
  },
  {
   "cell_type": "code",
   "execution_count": null,
   "metadata": {},
   "outputs": [],
   "source": []
  },
  {
   "cell_type": "code",
   "execution_count": null,
   "metadata": {},
   "outputs": [],
   "source": []
  }
 ],
 "metadata": {
  "kernelspec": {
   "display_name": "Python 3",
   "language": "python",
   "name": "python3"
  },
  "language_info": {
   "codemirror_mode": {
    "name": "ipython",
    "version": 3
   },
   "file_extension": ".py",
   "mimetype": "text/x-python",
   "name": "python",
   "nbconvert_exporter": "python",
   "pygments_lexer": "ipython3",
   "version": "3.7.1"
  }
 },
 "nbformat": 4,
 "nbformat_minor": 2
}
